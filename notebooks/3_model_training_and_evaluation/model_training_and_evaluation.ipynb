{
 "cells": [
  {
   "attachments": {},
   "cell_type": "markdown",
   "id": "20203c0f",
   "metadata": {},
   "source": [
    "# I. Project Team Members"
   ]
  },
  {
   "attachments": {},
   "cell_type": "markdown",
   "id": "0aa3d7f4",
   "metadata": {},
   "source": [
    "| Prepared by | Email | Prepared for |\n",
    "| :-: | :-: | :-: |\n",
    "| **_Your Name_** | _Your Email_ | **_Project Name_** |"
   ]
  },
  {
   "attachments": {},
   "cell_type": "markdown",
   "id": "b05cd469",
   "metadata": {},
   "source": [
    "# II. Notebook Target Definition"
   ]
  },
  {
   "attachments": {},
   "cell_type": "markdown",
   "id": "47bae1d2",
   "metadata": {},
   "source": [
    "_Insert Text Here_"
   ]
  },
  {
   "attachments": {},
   "cell_type": "markdown",
   "id": "3213f42d",
   "metadata": {},
   "source": [
    "# III. Notebook Setup"
   ]
  },
  {
   "attachments": {},
   "cell_type": "markdown",
   "id": "bb5c3810",
   "metadata": {},
   "source": [
    "## III.A. Import Libraries"
   ]
  },
  {
   "cell_type": "code",
   "execution_count": 1,
   "id": "ac84c896",
   "metadata": {},
   "outputs": [
    {
     "name": "stdout",
     "output_type": "stream",
     "text": [
      "WARNING:tensorflow:From C:\\Users\\harde\\anaconda3\\envs\\pacmann_dl\\Lib\\site-packages\\keras\\src\\losses.py:2976: The name tf.losses.sparse_softmax_cross_entropy is deprecated. Please use tf.compat.v1.losses.sparse_softmax_cross_entropy instead.\n",
      "\n"
     ]
    }
   ],
   "source": [
    "from keras.preprocessing.text import Tokenizer\n",
    "from keras.preprocessing.sequence import pad_sequences\n",
    "from keras.models import Sequential\n",
    "from keras.layers import Embedding, LSTM, Dense\n",
    "from keras.callbacks import EarlyStopping\n",
    "\n",
    "from sklearn.metrics import accuracy_score, classification_report, ConfusionMatrixDisplay, roc_auc_score, roc_curve\n",
    "from sklearn.model_selection import cross_val_score, GridSearchCV, learning_curve, StratifiedKFold\n",
    "import json\n",
    "import matplotlib.pyplot as plt\n",
    "import numpy as np\n",
    "import pandas as pd\n",
    "import pickle\n",
    "\n",
    "pd.set_option('display.max_columns', None)\n",
    "pd.set_option('display.max_rows', None)"
   ]
  },
  {
   "attachments": {},
   "cell_type": "markdown",
   "id": "7291e85b",
   "metadata": {},
   "source": [
    "## III.B. Import Data"
   ]
  },
  {
   "cell_type": "code",
   "execution_count": 2,
   "id": "2f425995",
   "metadata": {},
   "outputs": [],
   "source": [
    "X_train = pd.read_pickle('../../data/processed/X_train.pkl')\n",
    "X_test = pd.read_pickle('../../data/processed/X_test.pkl')\n",
    "y_train = pd.read_pickle('../../data/processed/y_train.pkl')\n",
    "y_test = pd.read_pickle('../../data/processed/y_test.pkl')"
   ]
  },
  {
   "cell_type": "code",
   "execution_count": 3,
   "id": "d849198a",
   "metadata": {},
   "outputs": [
    {
     "data": {
      "text/html": [
       "<div>\n",
       "<style scoped>\n",
       "    .dataframe tbody tr th:only-of-type {\n",
       "        vertical-align: middle;\n",
       "    }\n",
       "\n",
       "    .dataframe tbody tr th {\n",
       "        vertical-align: top;\n",
       "    }\n",
       "\n",
       "    .dataframe thead th {\n",
       "        text-align: right;\n",
       "    }\n",
       "</style>\n",
       "<table border=\"1\" class=\"dataframe\">\n",
       "  <thead>\n",
       "    <tr style=\"text-align: right;\">\n",
       "      <th></th>\n",
       "      <th>review</th>\n",
       "    </tr>\n",
       "  </thead>\n",
       "  <tbody>\n",
       "    <tr>\n",
       "      <th>670</th>\n",
       "      <td>When i watch this movie i too get excited when...</td>\n",
       "    </tr>\n",
       "    <tr>\n",
       "      <th>36224</th>\n",
       "      <td>I just finished watching this (last weekend) a...</td>\n",
       "    </tr>\n",
       "    <tr>\n",
       "      <th>39381</th>\n",
       "      <td>Poor second-string feature from Universal Pict...</td>\n",
       "    </tr>\n",
       "    <tr>\n",
       "      <th>4397</th>\n",
       "      <td>When I was younger, this movie always aired on...</td>\n",
       "    </tr>\n",
       "    <tr>\n",
       "      <th>48699</th>\n",
       "      <td>Don't get me wrong , I want to see marijuana l...</td>\n",
       "    </tr>\n",
       "  </tbody>\n",
       "</table>\n",
       "</div>"
      ],
      "text/plain": [
       "                                                  review\n",
       "670    When i watch this movie i too get excited when...\n",
       "36224  I just finished watching this (last weekend) a...\n",
       "39381  Poor second-string feature from Universal Pict...\n",
       "4397   When I was younger, this movie always aired on...\n",
       "48699  Don't get me wrong , I want to see marijuana l..."
      ]
     },
     "execution_count": 3,
     "metadata": {},
     "output_type": "execute_result"
    }
   ],
   "source": [
    "X_train.head()"
   ]
  },
  {
   "cell_type": "code",
   "execution_count": 4,
   "id": "3d3fa463",
   "metadata": {},
   "outputs": [
    {
     "data": {
      "text/html": [
       "<div>\n",
       "<style scoped>\n",
       "    .dataframe tbody tr th:only-of-type {\n",
       "        vertical-align: middle;\n",
       "    }\n",
       "\n",
       "    .dataframe tbody tr th {\n",
       "        vertical-align: top;\n",
       "    }\n",
       "\n",
       "    .dataframe thead th {\n",
       "        text-align: right;\n",
       "    }\n",
       "</style>\n",
       "<table border=\"1\" class=\"dataframe\">\n",
       "  <thead>\n",
       "    <tr style=\"text-align: right;\">\n",
       "      <th></th>\n",
       "      <th>review</th>\n",
       "    </tr>\n",
       "  </thead>\n",
       "  <tbody>\n",
       "    <tr>\n",
       "      <th>21560</th>\n",
       "      <td>A hilarious Action comedy in which Damian Szif...</td>\n",
       "    </tr>\n",
       "    <tr>\n",
       "      <th>4334</th>\n",
       "      <td>This movie has it all. Sight gags, subtle joke...</td>\n",
       "    </tr>\n",
       "    <tr>\n",
       "      <th>42642</th>\n",
       "      <td>This movie is simply awesome. It is so hilario...</td>\n",
       "    </tr>\n",
       "    <tr>\n",
       "      <th>31502</th>\n",
       "      <td>Rosario Dawson stars as a girl who is date rap...</td>\n",
       "    </tr>\n",
       "    <tr>\n",
       "      <th>49051</th>\n",
       "      <td>PAGE 3 **** out of 4 StarsMadhvi (Konkona Sen)...</td>\n",
       "    </tr>\n",
       "  </tbody>\n",
       "</table>\n",
       "</div>"
      ],
      "text/plain": [
       "                                                  review\n",
       "21560  A hilarious Action comedy in which Damian Szif...\n",
       "4334   This movie has it all. Sight gags, subtle joke...\n",
       "42642  This movie is simply awesome. It is so hilario...\n",
       "31502  Rosario Dawson stars as a girl who is date rap...\n",
       "49051  PAGE 3 **** out of 4 StarsMadhvi (Konkona Sen)..."
      ]
     },
     "execution_count": 4,
     "metadata": {},
     "output_type": "execute_result"
    }
   ],
   "source": [
    "X_test.head()"
   ]
  },
  {
   "cell_type": "code",
   "execution_count": 5,
   "id": "1433f20c",
   "metadata": {},
   "outputs": [
    {
     "data": {
      "text/plain": [
       "670      1\n",
       "36224    1\n",
       "39381    0\n",
       "4397     1\n",
       "48699    0\n",
       "Name: sentiment, dtype: int64"
      ]
     },
     "execution_count": 5,
     "metadata": {},
     "output_type": "execute_result"
    }
   ],
   "source": [
    "y_train.head()"
   ]
  },
  {
   "cell_type": "code",
   "execution_count": 6,
   "id": "d253314f",
   "metadata": {},
   "outputs": [
    {
     "data": {
      "text/plain": [
       "21560    1\n",
       "4334     1\n",
       "42642    1\n",
       "31502    0\n",
       "49051    1\n",
       "Name: sentiment, dtype: int64"
      ]
     },
     "execution_count": 6,
     "metadata": {},
     "output_type": "execute_result"
    }
   ],
   "source": [
    "y_test.head()"
   ]
  },
  {
   "attachments": {},
   "cell_type": "markdown",
   "id": "f59e32c9",
   "metadata": {},
   "source": [
    "# IV. Models Training and Evaluation"
   ]
  },
  {
   "attachments": {},
   "cell_type": "markdown",
   "id": "db0a5756",
   "metadata": {},
   "source": [
    "## IV.A. Data Shape Inspection"
   ]
  },
  {
   "cell_type": "code",
   "execution_count": 7,
   "id": "aad7798b",
   "metadata": {},
   "outputs": [
    {
     "data": {
      "text/plain": [
       "((39665, 1), (9917, 1))"
      ]
     },
     "execution_count": 7,
     "metadata": {},
     "output_type": "execute_result"
    }
   ],
   "source": [
    "X_train.shape, X_test.shape"
   ]
  },
  {
   "cell_type": "code",
   "execution_count": 8,
   "id": "6bd1fe1c",
   "metadata": {},
   "outputs": [
    {
     "data": {
      "text/plain": [
       "((39665,), (9917,))"
      ]
     },
     "execution_count": 8,
     "metadata": {},
     "output_type": "execute_result"
    }
   ],
   "source": [
    "y_train.shape, y_test.shape"
   ]
  },
  {
   "attachments": {},
   "cell_type": "markdown",
   "id": "3389b1bf",
   "metadata": {},
   "source": [
    "## IV.B. Data Information Inspection"
   ]
  },
  {
   "cell_type": "code",
   "execution_count": 9,
   "id": "c6d7319a",
   "metadata": {},
   "outputs": [
    {
     "name": "stdout",
     "output_type": "stream",
     "text": [
      "<class 'pandas.core.frame.DataFrame'>\n",
      "Index: 39665 entries, 670 to 12021\n",
      "Data columns (total 1 columns):\n",
      " #   Column  Non-Null Count  Dtype \n",
      "---  ------  --------------  ----- \n",
      " 0   review  39665 non-null  object\n",
      "dtypes: object(1)\n",
      "memory usage: 619.8+ KB\n"
     ]
    }
   ],
   "source": [
    "X_train.info()"
   ]
  },
  {
   "cell_type": "code",
   "execution_count": 10,
   "id": "fe621948",
   "metadata": {},
   "outputs": [
    {
     "name": "stdout",
     "output_type": "stream",
     "text": [
      "<class 'pandas.core.frame.DataFrame'>\n",
      "Index: 9917 entries, 21560 to 13348\n",
      "Data columns (total 1 columns):\n",
      " #   Column  Non-Null Count  Dtype \n",
      "---  ------  --------------  ----- \n",
      " 0   review  9917 non-null   object\n",
      "dtypes: object(1)\n",
      "memory usage: 155.0+ KB\n"
     ]
    }
   ],
   "source": [
    "X_test.info()"
   ]
  },
  {
   "cell_type": "code",
   "execution_count": 11,
   "id": "d1aef8c6",
   "metadata": {},
   "outputs": [
    {
     "name": "stdout",
     "output_type": "stream",
     "text": [
      "<class 'pandas.core.series.Series'>\n",
      "Index: 39665 entries, 670 to 12021\n",
      "Series name: sentiment\n",
      "Non-Null Count  Dtype\n",
      "--------------  -----\n",
      "39665 non-null  int64\n",
      "dtypes: int64(1)\n",
      "memory usage: 619.8 KB\n"
     ]
    }
   ],
   "source": [
    "y_train.info()"
   ]
  },
  {
   "cell_type": "code",
   "execution_count": 12,
   "id": "2121d07d",
   "metadata": {},
   "outputs": [
    {
     "name": "stdout",
     "output_type": "stream",
     "text": [
      "<class 'pandas.core.series.Series'>\n",
      "Index: 9917 entries, 21560 to 13348\n",
      "Series name: sentiment\n",
      "Non-Null Count  Dtype\n",
      "--------------  -----\n",
      "9917 non-null   int64\n",
      "dtypes: int64(1)\n",
      "memory usage: 155.0 KB\n"
     ]
    }
   ],
   "source": [
    "y_test.info()"
   ]
  },
  {
   "attachments": {},
   "cell_type": "markdown",
   "id": "ce34b86f",
   "metadata": {},
   "source": [
    "## IV.C. Tokens Preprocessing"
   ]
  },
  {
   "cell_type": "code",
   "execution_count": 13,
   "id": "3a9b4c3a-1c44-4f0b-b27d-f9059c177603",
   "metadata": {},
   "outputs": [],
   "source": [
    "max_vocab_size = 30000\n",
    "max_length = 300\n",
    "tokenizer = Tokenizer(num_words=max_vocab_size)\n",
    "tokenizer.fit_on_texts(X_train[\"review\"])\n",
    "X_train_seq = tokenizer.texts_to_sequences(X_train[\"review\"])\n",
    "X_test_seq = tokenizer.texts_to_sequences(X_test[\"review\"])\n",
    "X_train_pad = pad_sequences(X_train_seq, maxlen=max_length, padding='post')\n",
    "X_test_pad = pad_sequences(X_test_seq, maxlen=max_length, padding='post')"
   ]
  },
  {
   "cell_type": "code",
   "execution_count": 14,
   "id": "d6b74442-3850-4574-b4a1-12940f0031d8",
   "metadata": {},
   "outputs": [
    {
     "name": "stdout",
     "output_type": "stream",
     "text": [
      "WARNING:tensorflow:From C:\\Users\\harde\\anaconda3\\envs\\pacmann_dl\\Lib\\site-packages\\keras\\src\\backend.py:873: The name tf.get_default_graph is deprecated. Please use tf.compat.v1.get_default_graph instead.\n",
      "\n",
      "WARNING:tensorflow:From C:\\Users\\harde\\anaconda3\\envs\\pacmann_dl\\Lib\\site-packages\\keras\\src\\optimizers\\__init__.py:309: The name tf.train.Optimizer is deprecated. Please use tf.compat.v1.train.Optimizer instead.\n",
      "\n"
     ]
    }
   ],
   "source": [
    "model = Sequential([\n",
    "    Embedding(max_vocab_size, 128, input_length=max_length),\n",
    "    LSTM(64, return_sequences=False),\n",
    "    Dense(1, activation='sigmoid')\n",
    "])\n",
    "model.compile(loss='binary_crossentropy', optimizer='adam', metrics=['accuracy'])\n",
    "early_stopping = EarlyStopping(monitor='val_loss', patience=3)"
   ]
  },
  {
   "cell_type": "markdown",
   "id": "773ebfe3-6b9a-481e-a6b7-34cb5d4cfaff",
   "metadata": {},
   "source": [
    "## IV.D. Baseline Model Training"
   ]
  },
  {
   "cell_type": "code",
   "execution_count": 15,
   "id": "0bd781a3-46f5-463f-92ed-4e83163c95db",
   "metadata": {},
   "outputs": [
    {
     "name": "stdout",
     "output_type": "stream",
     "text": [
      "Epoch 1/10\n",
      "WARNING:tensorflow:From C:\\Users\\harde\\anaconda3\\envs\\pacmann_dl\\Lib\\site-packages\\keras\\src\\utils\\tf_utils.py:492: The name tf.ragged.RaggedTensorValue is deprecated. Please use tf.compat.v1.ragged.RaggedTensorValue instead.\n",
      "\n",
      "WARNING:tensorflow:From C:\\Users\\harde\\anaconda3\\envs\\pacmann_dl\\Lib\\site-packages\\keras\\src\\engine\\base_layer_utils.py:384: The name tf.executing_eagerly_outside_functions is deprecated. Please use tf.compat.v1.executing_eagerly_outside_functions instead.\n",
      "\n",
      "1240/1240 [==============================] - 90s 71ms/step - loss: 0.6472 - accuracy: 0.5841 - val_loss: 0.6618 - val_accuracy: 0.5531\n",
      "Epoch 2/10\n",
      "1240/1240 [==============================] - 87s 70ms/step - loss: 0.5394 - accuracy: 0.7312 - val_loss: 0.5518 - val_accuracy: 0.7266\n",
      "Epoch 3/10\n",
      "1240/1240 [==============================] - 87s 70ms/step - loss: 0.5391 - accuracy: 0.7317 - val_loss: 0.4814 - val_accuracy: 0.8056\n",
      "Epoch 4/10\n",
      "1240/1240 [==============================] - 86s 69ms/step - loss: 0.4556 - accuracy: 0.8001 - val_loss: 0.4818 - val_accuracy: 0.8109\n",
      "Epoch 5/10\n",
      "1240/1240 [==============================] - 87s 70ms/step - loss: 0.4646 - accuracy: 0.7951 - val_loss: 0.5117 - val_accuracy: 0.7920\n",
      "Epoch 6/10\n",
      "1240/1240 [==============================] - 88s 71ms/step - loss: 0.4077 - accuracy: 0.8332 - val_loss: 0.4945 - val_accuracy: 0.7867\n"
     ]
    }
   ],
   "source": [
    "history = model.fit(X_train_pad, y_train, epochs=10, validation_data=(X_test_pad, y_test), callbacks=[early_stopping])"
   ]
  },
  {
   "cell_type": "markdown",
   "id": "8dbb93b8-d910-4b5f-a72d-43af52b7d169",
   "metadata": {},
   "source": [
    "## IV.E. Baseline Model Performance Review"
   ]
  },
  {
   "cell_type": "code",
   "execution_count": 17,
   "id": "95e14a4f-cd26-4279-8fad-2c2e78ca8aaf",
   "metadata": {},
   "outputs": [],
   "source": [
    "import numpy as np\n",
    "import pandas as pd\n",
    "import matplotlib.pyplot as plt\n",
    "from sklearn.metrics import classification_report, accuracy_score, roc_auc_score, roc_curve, ConfusionMatrixDisplay\n",
    "\n",
    "def get_metrics_dataframe(model, X_train, y_train, X_test, y_test):\n",
    "    # For Keras, .predict_classes() is used for classification tasks\n",
    "    train_prediction = (model.predict(X_train) > 0.5).astype(\"int32\")\n",
    "    test_prediction = (model.predict(X_test) > 0.5).astype(\"int32\")\n",
    "\n",
    "    # For Keras, .predict() gives the predicted probabilities\n",
    "    train_probs = model.predict(X_train)\n",
    "    test_probs = model.predict(X_test)\n",
    "\n",
    "    def get_prediction_metrics(y_true, y_pred, y_probs):\n",
    "        report = classification_report(y_true, y_pred, output_dict=True)\n",
    "        accuracy = accuracy_score(y_true, y_pred)\n",
    "        auc_roc = roc_auc_score(y_true, y_probs)\n",
    "        gini = 2 * auc_roc - 1\n",
    "        metrics = {\n",
    "            \"precision\": report[\"weighted avg\"][\"precision\"],\n",
    "            \"recall\": report[\"weighted avg\"][\"recall\"],\n",
    "            \"f1-score\": report[\"weighted avg\"][\"f1-score\"],\n",
    "            \"accuracy\": accuracy,\n",
    "            \"auc_roc\": auc_roc,\n",
    "            \"gini\": gini\n",
    "        }\n",
    "        return metrics\n",
    "\n",
    "    train_metrics = get_prediction_metrics(y_train, train_prediction, train_probs)\n",
    "    train_metrics[\"dataset\"] = \"Train\"\n",
    "    test_metrics = get_prediction_metrics(y_test, test_prediction, test_probs)\n",
    "    test_metrics[\"dataset\"] = \"Test\"\n",
    "    return pd.DataFrame([train_metrics, test_metrics])\n",
    "\n",
    "def display_confusion_matrix(model, X_train, y_train, X_test, y_test):\n",
    "    train_prediction = (model.predict(X_train) > 0.5).astype(\"int32\")\n",
    "    test_prediction = (model.predict(X_test) > 0.5).astype(\"int32\")\n",
    "    fig, ax = plt.subplots(1, 2, figsize=(12, 6))\n",
    "    ConfusionMatrixDisplay.from_predictions(y_train, train_prediction, ax=ax[0])\n",
    "    ax[0].set_title(\"Train Confusion Matrix\")\n",
    "    ConfusionMatrixDisplay.from_predictions(y_test, test_prediction, ax=ax[1])\n",
    "    ax[1].set_title(\"Test Confusion Matrix\")\n",
    "    plt.show()\n",
    "\n",
    "def plot_train_vs_test_error(model, X_train, y_train, X_test, y_test):\n",
    "    y_pred_train = (model.predict(X_train) > 0.5).astype(\"int32\")\n",
    "    y_pred_test = (model.predict(X_test) > 0.5).astype(\"int32\")\n",
    "    train_error = 1 - accuracy_score(y_train, y_pred_train)\n",
    "    test_error = 1 - accuracy_score(y_test, y_pred_test)\n",
    "    bars = plt.bar([\"Train Error\", \"Test Error\"], [train_error, test_error])\n",
    "    plt.ylabel(\"Error Rate\")\n",
    "    plt.title(\"Train vs Test Error\")\n",
    "    for bar in bars:\n",
    "        yval = bar.get_height()\n",
    "        plt.text(bar.get_x() + bar.get_width()/2, yval + 0.0005, round(yval, 2), ha='center', va='bottom')\n",
    "    plt.show()\n",
    "\n",
    "def plot_roc_curve(model, X_train, y_train, X_test, y_test):\n",
    "    y_pred_train_prob = model.predict(X_train)\n",
    "    y_pred_test_prob = model.predict(X_test)\n",
    "    fpr_train, tpr_train, _ = roc_curve(y_train, y_pred_train_prob)\n",
    "    fpr_test, tpr_test, _ = roc_curve(y_test, y_pred_test_prob)\n",
    "    plt.figure(figsize=(12, 6))\n",
    "    plt.plot(fpr_train, tpr_train, label=f\"Train AUC: {roc_auc_score(y_train, y_pred_train_prob):.2f}\")\n",
    "    plt.plot(fpr_test, tpr_test, label=f\"Test AUC: {roc_auc_score(y_test, y_pred_test_prob):.2f}\")\n",
    "    plt.plot([0, 1], [0, 1], color='navy', linestyle='--')\n",
    "    plt.xlabel(\"False Positive Rate\")\n",
    "    plt.ylabel(\"True Positive Rate\")\n",
    "    plt.title(\"ROC Curve\")\n",
    "    plt.legend(loc='best')\n",
    "    plt.show()"
   ]
  },
  {
   "cell_type": "code",
   "execution_count": 18,
   "id": "d2d937c3-09f3-429c-a104-597dc1bfec99",
   "metadata": {},
   "outputs": [
    {
     "name": "stdout",
     "output_type": "stream",
     "text": [
      "1240/1240 [==============================] - 29s 24ms/step\n",
      "310/310 [==============================] - 7s 24ms/step\n",
      "1240/1240 [==============================] - 29s 24ms/step\n",
      "310/310 [==============================] - 7s 23ms/step\n"
     ]
    },
    {
     "data": {
      "text/html": [
       "<div>\n",
       "<style scoped>\n",
       "    .dataframe tbody tr th:only-of-type {\n",
       "        vertical-align: middle;\n",
       "    }\n",
       "\n",
       "    .dataframe tbody tr th {\n",
       "        vertical-align: top;\n",
       "    }\n",
       "\n",
       "    .dataframe thead th {\n",
       "        text-align: right;\n",
       "    }\n",
       "</style>\n",
       "<table border=\"1\" class=\"dataframe\">\n",
       "  <thead>\n",
       "    <tr style=\"text-align: right;\">\n",
       "      <th></th>\n",
       "      <th>precision</th>\n",
       "      <th>recall</th>\n",
       "      <th>f1-score</th>\n",
       "      <th>accuracy</th>\n",
       "      <th>auc_roc</th>\n",
       "      <th>gini</th>\n",
       "      <th>dataset</th>\n",
       "    </tr>\n",
       "  </thead>\n",
       "  <tbody>\n",
       "    <tr>\n",
       "      <th>0</th>\n",
       "      <td>0.846389</td>\n",
       "      <td>0.840867</td>\n",
       "      <td>0.840184</td>\n",
       "      <td>0.840867</td>\n",
       "      <td>0.920071</td>\n",
       "      <td>0.840142</td>\n",
       "      <td>Train</td>\n",
       "    </tr>\n",
       "    <tr>\n",
       "      <th>1</th>\n",
       "      <td>0.793165</td>\n",
       "      <td>0.786730</td>\n",
       "      <td>0.785472</td>\n",
       "      <td>0.786730</td>\n",
       "      <td>0.851305</td>\n",
       "      <td>0.702609</td>\n",
       "      <td>Test</td>\n",
       "    </tr>\n",
       "  </tbody>\n",
       "</table>\n",
       "</div>"
      ],
      "text/plain": [
       "   precision    recall  f1-score  accuracy   auc_roc      gini dataset\n",
       "0   0.846389  0.840867  0.840184  0.840867  0.920071  0.840142   Train\n",
       "1   0.793165  0.786730  0.785472  0.786730  0.851305  0.702609    Test"
      ]
     },
     "execution_count": 18,
     "metadata": {},
     "output_type": "execute_result"
    }
   ],
   "source": [
    "metrics_df = get_metrics_dataframe(model, X_train_pad, y_train, X_test_pad, y_test)\n",
    "metrics_df"
   ]
  },
  {
   "cell_type": "code",
   "execution_count": 19,
   "id": "3c56a633-7eab-495d-b4ac-8355c068bce9",
   "metadata": {},
   "outputs": [
    {
     "name": "stdout",
     "output_type": "stream",
     "text": [
      "1240/1240 [==============================] - 29s 24ms/step\n",
      "310/310 [==============================] - 7s 23ms/step\n"
     ]
    },
    {
     "data": {
      "image/png": "[encoded data removed]",
      "text/plain": [
       "<Figure size 1200x600 with 4 Axes>"
      ]
     },
     "metadata": {},
     "output_type": "display_data"
    }
   ],
   "source": [
    "display_confusion_matrix(model, X_train_pad, y_train, X_test_pad, y_test)"
   ]
  },
  {
   "cell_type": "code",
   "execution_count": 20,
   "id": "40b5e7c9-70cf-49a0-9fd4-3a8b1abce0c0",
   "metadata": {},
   "outputs": [
    {
     "name": "stdout",
     "output_type": "stream",
     "text": [
      "1240/1240 [==============================] - 30s 24ms/step\n",
      "310/310 [==============================] - 7s 24ms/step\n"
     ]
    },
    {
     "data": {
      "image/png": "[encoded data removed]",
      "text/plain": [
       "<Figure size 640x480 with 1 Axes>"
      ]
     },
     "metadata": {},
     "output_type": "display_data"
    }
   ],
   "source": [
    "plot_train_vs_test_error(model, X_train_pad, y_train, X_test_pad, y_test)"
   ]
  },
  {
   "cell_type": "code",
   "execution_count": 21,
   "id": "49f081a9-92ac-4d4c-9526-653dd508e8e4",
   "metadata": {},
   "outputs": [
    {
     "name": "stdout",
     "output_type": "stream",
     "text": [
      "1240/1240 [==============================] - 29s 24ms/step\n",
      "310/310 [==============================] - 7s 23ms/step\n"
     ]
    },
    {
     "data": {
      "image/png": "[encoded data removed]",
      "text/plain": [
       "<Figure size 1200x600 with 1 Axes>"
      ]
     },
     "metadata": {},
     "output_type": "display_data"
    }
   ],
   "source": [
    "plot_roc_curve(model, X_train_pad, y_train, X_test_pad, y_test)"
   ]
  },
  {
   "attachments": {},
   "cell_type": "markdown",
   "id": "de0ed9a4",
   "metadata": {},
   "source": [
    "## IV.F. Hyperparameters Tuning"
   ]
  },
  {
   "cell_type": "code",
   "execution_count": null,
   "id": "584d10d8-7667-4efc-a101-458b3b24104c",
   "metadata": {},
   "outputs": [],
   "source": [
    "from kerastuner import HyperModel\n",
    "from keras.layers import Dropout\n",
    "\n",
    "class LSTMHyperModel(HyperModel):\n",
    "    def __init__(self, max_vocab_size, max_length):\n",
    "        self.max_vocab_size = max_vocab_size\n",
    "        self.max_length = max_length\n",
    "\n",
    "    def build(self, hp):\n",
    "        model = Sequential()\n",
    "        model.add(Embedding(self.max_vocab_size, hp.Int('embedding_dim', 32, 128, step=32), input_length=self.max_length))\n",
    "        model.add(LSTM(hp.Int('lstm_units', 32, 128, step=32)))\n",
    "        model.add(Dropout(hp.Float('dropout_rate', 0.1, 0.5, step=0.1)))\n",
    "        model.add(Dense(1, activation='sigmoid'))\n",
    "        model.compile(optimizer=hp.Choice('optimizer', ['adam', 'rmsprop']),\n",
    "                      loss='binary_crossentropy',\n",
    "                      metrics=['accuracy'])\n",
    "        return model\n",
    "\n",
    "from kerastuner.tuners import RandomSearch\n",
    "\n",
    "hypermodel = LSTMHyperModel(max_vocab_size=max_vocab_size, max_length=max_length)\n",
    "\n",
    "tuner = RandomSearch(\n",
    "    hypermodel,\n",
    "    objective='val_accuracy',\n",
    "    max_trials=10,\n",
    "    executions_per_trial=2,\n",
    "    directory='my_dir',\n",
    "    project_name='hparam_tuning'\n",
    ")\n",
    "\n",
    "tuner.search(X_train_pad, y_train, epochs=10, validation_data=(X_test_pad, y_test))\n",
    "\n",
    "best_model = tuner.get_best_models(num_models=1)[0]\n",
    "loss, accuracy = best_model.evaluate(X_test_pad, y_test)\n",
    "print(f\"Test Accuracy: {accuracy*100:.2f}%\")"
   ]
  },
  {
   "cell_type": "code",
   "execution_count": null,
   "id": "f94e8d02-df1a-47c6-afc4-5a7c9e761574",
   "metadata": {},
   "outputs": [],
   "source": []
  },
  {
   "cell_type": "code",
   "execution_count": null,
   "id": "28e004d7-3a88-4460-9024-be51162a61b6",
   "metadata": {},
   "outputs": [],
   "source": []
  },
  {
   "cell_type": "code",
   "execution_count": null,
   "id": "e2bb8677-533b-493a-a42e-3c86169b34fa",
   "metadata": {},
   "outputs": [],
   "source": []
  },
  {
   "cell_type": "code",
   "execution_count": null,
   "id": "ba7ec98a-1922-4a00-80b4-2c236d6d0d34",
   "metadata": {},
   "outputs": [],
   "source": []
  },
  {
   "cell_type": "code",
   "execution_count": null,
   "id": "ac462d3a-1737-4d2b-923a-2904e56d019a",
   "metadata": {},
   "outputs": [],
   "source": []
  },
  {
   "cell_type": "code",
   "execution_count": null,
   "id": "268d8b89-cbd4-4165-a9f3-db348c604fcd",
   "metadata": {},
   "outputs": [],
   "source": [
    "# Predict OOT Data\n",
    "\n",
    "# Example new data (replace this with your actual test data)\n",
    "new_reviews = [\"This movie was excellent! The performances were oscar-worthy!\",\n",
    "               \"I did not like this movie, it was too long and boring.\"]\n",
    "\n",
    "# Preprocess the new data\n",
    "new_reviews_seq = tokenizer.texts_to_sequences(new_reviews)\n",
    "new_reviews_pad = pad_sequences(new_reviews_seq, maxlen=max_length, padding='post')\n",
    "\n",
    "# Make predictions\n",
    "predictions = model.predict(new_reviews_pad)\n",
    "\n",
    "# Since the output is a probability (due to the sigmoid activation), \n",
    "# you might want to convert it to a binary outcome based on a threshold\n",
    "predicted_classes = [1 if prob > 0.5 else 0 for prob in predictions]\n",
    "\n",
    "# Print predictions\n",
    "for review, prediction in zip(new_reviews, predicted_classes):\n",
    "    print(f\"Review: {review}\")\n",
    "    print(f\"Predicted Sentiment: {'Positive' if prediction == 1 else 'Negative'}\\n\")\n"
   ]
  },
  {
   "cell_type": "code",
   "execution_count": null,
   "id": "310cf52c-b836-47b6-87a1-2a8968509ef9",
   "metadata": {},
   "outputs": [],
   "source": []
  },
  {
   "attachments": {},
   "cell_type": "markdown",
   "id": "7943a5bb",
   "metadata": {},
   "source": [
    "### IV.F.2. Best Model Hyperparameter Retraining"
   ]
  },
  {
   "cell_type": "markdown",
   "id": "b8cc10a9-fdee-4c0b-951a-5ff793172a27",
   "metadata": {},
   "source": [
    "### IV.F.3. Hyperparameter-tuned Model Performance Review"
   ]
  },
  {
   "cell_type": "code",
   "execution_count": null,
   "id": "55f99ce4",
   "metadata": {},
   "outputs": [],
   "source": [
    "all_training_logs_df_tuned = training_log_to_df_converter(training_log)\n",
    "all_training_logs_df_tuned"
   ]
  },
  {
   "attachments": {},
   "cell_type": "markdown",
   "id": "44c44a6b",
   "metadata": {},
   "source": [
    "### IV.F.4. Export Hyperparameter-tuned Best Model"
   ]
  },
  {
   "cell_type": "code",
   "execution_count": null,
   "id": "b6d0583e",
   "metadata": {},
   "outputs": [],
   "source": [
    "with open('../../models/tuned_best_model.pkl', 'wb') as file:\n",
    "    pickle.dump(tuned_best_model, file)"
   ]
  }
 ],
 "metadata": {
  "kernelspec": {
   "display_name": "Python 3 (ipykernel)",
   "language": "python",
   "name": "python3"
  },
  "language_info": {
   "codemirror_mode": {
    "name": "ipython",
    "version": 3
   },
   "file_extension": ".py",
   "mimetype": "text/x-python",
   "name": "python",
   "nbconvert_exporter": "python",
   "pygments_lexer": "ipython3",
   "version": "3.11.5"
  }
 },
 "nbformat": 4,
 "nbformat_minor": 5
}
